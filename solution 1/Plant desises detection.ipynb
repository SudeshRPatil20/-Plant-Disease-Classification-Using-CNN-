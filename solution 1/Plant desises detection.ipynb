{
 "cells": [
  {
   "cell_type": "code",
   "execution_count": 1,
   "id": "dbb36580",
   "metadata": {},
   "outputs": [],
   "source": [
    "import tensorflow as tf\n",
    "import pandas as pd\n",
    "import seaborn as sns\n",
    "import matplotlib.pyplot as plt\n",
    "%matplotlib inline"
   ]
  },
  {
   "cell_type": "code",
   "execution_count": 2,
   "id": "a7253d2c",
   "metadata": {},
   "outputs": [
    {
     "name": "stdout",
     "output_type": "stream",
     "text": [
      "Found 1322 files belonging to 3 classes.\n"
     ]
    }
   ],
   "source": [
    "training_set = tf.keras.utils.image_dataset_from_directory(\n",
    "    \"D:/sudesh/projects/plant desies detection/archive (4)/Train/Train\",\n",
    "    labels=\"inferred\",\n",
    "    label_mode=\"categorical\",\n",
    "    class_names=None,\n",
    "    color_mode=\"rgb\",\n",
    "    batch_size=32,\n",
    "    image_size=(256, 256),\n",
    "    shuffle=True,\n",
    "    seed=None,\n",
    "    validation_split=None,\n",
    "    subset=None,\n",
    "    interpolation=\"bilinear\",\n",
    "    follow_links=False,\n",
    "    crop_to_aspect_ratio=False,\n",
    "    pad_to_aspect_ratio=False,\n",
    "    data_format=None,\n",
    "    verbose=True,\n",
    ")"
   ]
  },
  {
   "cell_type": "code",
   "execution_count": 3,
   "id": "0632458e",
   "metadata": {},
   "outputs": [
    {
     "name": "stdout",
     "output_type": "stream",
     "text": [
      "Found 60 files belonging to 3 classes.\n"
     ]
    }
   ],
   "source": [
    "validation_set = tf.keras.utils.image_dataset_from_directory(\n",
    "    \"D:/sudesh/projects/plant desies detection/archive (4)/Validation/Validation\",\n",
    "    labels=\"inferred\",\n",
    "    label_mode=\"categorical\",\n",
    "    class_names=None,\n",
    "    color_mode=\"rgb\",\n",
    "    batch_size=32,\n",
    "    image_size=(256, 256),\n",
    "    shuffle=True,\n",
    "    seed=None,\n",
    "    validation_split=None,\n",
    "    subset=None,\n",
    "    interpolation=\"bilinear\",\n",
    "    follow_links=False,\n",
    "    crop_to_aspect_ratio=False,\n",
    "    pad_to_aspect_ratio=False,\n",
    "    data_format=None,\n",
    "    verbose=True,\n",
    ")"
   ]
  },
  {
   "cell_type": "code",
   "execution_count": 4,
   "id": "3ea9a567",
   "metadata": {},
   "outputs": [
    {
     "name": "stdout",
     "output_type": "stream",
     "text": [
      "tf.Tensor(\n",
      "[[[[211.94531  235.94531  235.94531 ]\n",
      "   [215.       239.       239.      ]\n",
      "   [213.875    237.875    237.875   ]\n",
      "   ...\n",
      "   [111.       145.        68.      ]\n",
      "   [108.6875   145.6875    68.6875  ]\n",
      "   [103.94531  140.94531   63.945312]]\n",
      "\n",
      "  [[217.35156  236.35156  241.60156 ]\n",
      "   [219.       239.375    243.9375  ]\n",
      "   [215.50781  239.50781  242.75781 ]\n",
      "   ...\n",
      "   [113.       148.        66.      ]\n",
      "   [110.6875   147.6875    68.4375  ]\n",
      "   [107.21094  144.21094   64.96094 ]]\n",
      "\n",
      "  [[219.       236.       244.      ]\n",
      "   [220.3125   238.6875   246.      ]\n",
      "   [220.       240.       249.      ]\n",
      "   ...\n",
      "   [115.88281  150.88281   68.88281 ]\n",
      "   [113.       150.        70.      ]\n",
      "   [108.375    145.375     65.375   ]]\n",
      "\n",
      "  ...\n",
      "\n",
      "  [[107.21094  147.21094  110.21094 ]\n",
      "   [106.57031  146.57031  109.57031 ]\n",
      "   [104.44531  144.44531  109.44531 ]\n",
      "   ...\n",
      "   [151.64844  173.       141.88281 ]\n",
      "   [144.60938  169.       132.80469 ]\n",
      "   [132.77344  163.77344  121.77344 ]]\n",
      "\n",
      "  [[109.27344  146.27344  112.27344 ]\n",
      "   [106.74219  143.74219  109.74219 ]\n",
      "   [104.1875   144.1875   109.1875  ]\n",
      "   ...\n",
      "   [139.625    166.625    131.625   ]\n",
      "   [133.42969  163.42969  125.42969 ]\n",
      "   [128.1875   159.1875   116.4375  ]]\n",
      "\n",
      "  [[110.       147.       113.      ]\n",
      "   [107.       144.       110.      ]\n",
      "   [103.       142.       111.      ]\n",
      "   ...\n",
      "   [130.75     162.75     121.75    ]\n",
      "   [127.875    158.875    116.875   ]\n",
      "   [124.4375   156.4375   109.4375  ]]]\n",
      "\n",
      "\n",
      " [[[143.23047  164.23047  108.23047 ]\n",
      "   [139.48242  162.48242  106.48242 ]\n",
      "   [132.31445  157.31445  102.31445 ]\n",
      "   ...\n",
      "   [130.71875  157.71875   80.71875 ]\n",
      "   [128.21875  156.21875   72.21875 ]\n",
      "   [145.31836  172.63086   90.69336 ]]\n",
      "\n",
      "  [[136.45703  164.45703  106.45703 ]\n",
      "   [136.15625  159.46875  103.3125  ]\n",
      "   [130.75586  156.06836  101.06836 ]\n",
      "   ...\n",
      "   [148.57422  175.10547   98.57422 ]\n",
      "   [141.25     165.11523   87.521484]\n",
      "   [158.84375  183.41992  107.26367 ]]\n",
      "\n",
      "  [[136.375    164.375    106.375   ]\n",
      "   [134.9375   159.9375   102.9375  ]\n",
      "   [131.30273  158.30273  103.302734]\n",
      "   ...\n",
      "   [165.71875  187.71875  123.052734]\n",
      "   [170.1875   191.1875   125.375   ]\n",
      "   [172.0957   194.0957   121.4082  ]]\n",
      "\n",
      "  ...\n",
      "\n",
      "  [[126.625    148.625    110.03125 ]\n",
      "   [134.56836  156.56836  120.56836 ]\n",
      "   [137.85547  161.85547  127.85547 ]\n",
      "   ...\n",
      "   [172.8125   181.8125    88.8125  ]\n",
      "   [166.875    176.875     79.875   ]\n",
      "   [154.0332   165.0332    69.0332  ]]\n",
      "\n",
      "  [[134.2539   156.2539   120.25391 ]\n",
      "   [136.30273  159.99023  123.990234]\n",
      "   [138.15039  162.15039  128.15039 ]\n",
      "   ...\n",
      "   [174.58203  183.58203   92.26953 ]\n",
      "   [163.79102  174.63477   78.625   ]\n",
      "   [154.27344  166.27344   66.80078 ]]\n",
      "\n",
      "  [[137.8164   159.8164   123.81641 ]\n",
      "   [142.28125  166.28125  130.28125 ]\n",
      "   [141.9668   165.9668   131.9668  ]\n",
      "   ...\n",
      "   [173.5625   182.5625    91.5625  ]\n",
      "   [162.       173.        77.      ]\n",
      "   [154.10742  166.10742   66.73242 ]]]\n",
      "\n",
      "\n",
      " [[[ 74.125     98.875     33.      ]\n",
      "   [106.5      136.125     37.25    ]\n",
      "   [100.625    140.625     25.625   ]\n",
      "   ...\n",
      "   [ 66.75      94.75      51.25    ]\n",
      "   [ 33.375     53.375     18.375   ]\n",
      "   [ 36.625     62.        23.      ]]\n",
      "\n",
      "  [[ 92.75     108.75      43.75    ]\n",
      "   [117.875    142.125     54.      ]\n",
      "   [114.       151.        47.5     ]\n",
      "   ...\n",
      "   [ 34.75      54.75      19.75    ]\n",
      "   [ 30.25      49.25      17.25    ]\n",
      "   [ 27.5       49.375     13.75    ]]\n",
      "\n",
      "  [[ 95.875    112.125     46.375   ]\n",
      "   [118.75     141.75      63.75    ]\n",
      "   [116.5      146.5       58.5     ]\n",
      "   ...\n",
      "   [ 30.875     54.875     18.875   ]\n",
      "   [ 30.875     47.875     13.875   ]\n",
      "   [ 28.375     48.875     16.125   ]]\n",
      "\n",
      "  ...\n",
      "\n",
      "  [[ 35.375     53.375     15.375   ]\n",
      "   [ 23.25      37.25      11.25    ]\n",
      "   [ 29.        43.        17.      ]\n",
      "   ...\n",
      "   [ 43.25      62.25       6.25    ]\n",
      "   [ 49.        68.        12.5     ]\n",
      "   [ 52.75      72.75       9.75    ]]\n",
      "\n",
      "  [[ 42.125     64.125     16.125   ]\n",
      "   [ 27.25      42.25      13.25    ]\n",
      "   [ 30.375     52.875     16.875   ]\n",
      "   ...\n",
      "   [ 39.625     60.625      4.625   ]\n",
      "   [ 53.375     74.375      8.875   ]\n",
      "   [ 51.        70.         5.5     ]]\n",
      "\n",
      "  [[ 40.875     63.        24.      ]\n",
      "   [ 33.5       55.5       19.5     ]\n",
      "   [ 50.625     80.625     28.125   ]\n",
      "   ...\n",
      "   [ 35.25      60.25       5.25    ]\n",
      "   [ 47.5       69.5        4.5     ]\n",
      "   [ 48.875     71.875      1.875   ]]]\n",
      "\n",
      "\n",
      " ...\n",
      "\n",
      "\n",
      " [[[227.375    210.375    200.375   ]\n",
      "   [224.17383  210.17383  199.17383 ]\n",
      "   [217.46875  208.46875  191.46875 ]\n",
      "   ...\n",
      "   [111.24805  156.24805   97.24805 ]\n",
      "   [116.33008  166.33008  107.33008 ]\n",
      "   [116.6875   167.       113.0625  ]]\n",
      "\n",
      "  [[225.35156  207.03906  196.88281 ]\n",
      "   [227.84375  210.       200.      ]\n",
      "   [229.6875   210.79297  201.63086 ]\n",
      "   ...\n",
      "   [106.44336  152.44336   87.44336 ]\n",
      "   [112.83203  160.6543    98.2793  ]\n",
      "   [117.00781  167.69531  109.16406 ]]\n",
      "\n",
      "  [[226.46484  207.0586   200.65234 ]\n",
      "   [223.76953  209.83203  203.46289 ]\n",
      "   [226.74023  218.92773  212.52148 ]\n",
      "   ...\n",
      "   [102.509766 148.50977   83.509766]\n",
      "   [106.68164  152.68164   88.68164 ]\n",
      "   [115.55859  165.5586   103.37109 ]]\n",
      "\n",
      "  ...\n",
      "\n",
      "  [[ 93.43555  138.43555   83.43555 ]\n",
      "   [ 87.       136.        80.      ]\n",
      "   [ 82.353516 132.22852   75.791016]\n",
      "   ...\n",
      "   [151.58398  188.77148  140.17773 ]\n",
      "   [162.       192.       140.      ]\n",
      "   [161.65039  188.65039  134.83789 ]]\n",
      "\n",
      "  [[ 84.51953  132.05078   74.51953 ]\n",
      "   [ 74.67969  121.99219   67.67969 ]\n",
      "   [119.83594  156.79102  100.19141 ]\n",
      "   ...\n",
      "   [163.80664  195.80664  148.80664 ]\n",
      "   [171.20898  195.67773  143.81445 ]\n",
      "   [164.0625   188.04883  131.42383 ]]\n",
      "\n",
      "  [[ 92.0625   133.0625    77.0625  ]\n",
      "   [136.91406  178.70508  120.44141 ]\n",
      "   [ 88.84375  133.84375   78.84375 ]\n",
      "   ...\n",
      "   [166.       192.       147.      ]\n",
      "   [169.59375  193.59375  141.59375 ]\n",
      "   [158.84961  181.84961  125.84961 ]]]\n",
      "\n",
      "\n",
      " [[[ 95.802734 151.80273  116.802734]\n",
      "   [ 93.37109  148.3711   116.37109 ]\n",
      "   [ 96.87695  151.87695  119.87695 ]\n",
      "   ...\n",
      "   [160.       174.       159.      ]\n",
      "   [162.58984  176.58984  161.58984 ]\n",
      "   [162.98242  178.98242  165.98242 ]]\n",
      "\n",
      "  [[ 92.625    148.51758  114.66992 ]\n",
      "   [101.1875   156.5      124.34375 ]\n",
      "   [105.896484 161.05273  128.58398 ]\n",
      "   ...\n",
      "   [164.32617  178.32617  163.32617 ]\n",
      "   [157.62305  171.62305  156.93555 ]\n",
      "   [160.48242  176.48242  163.48242 ]]\n",
      "\n",
      "  [[ 99.83984  156.83984  124.83984 ]\n",
      "   [ 97.43164  154.43164  121.43164 ]\n",
      "   [107.771484 163.77148  128.77148 ]\n",
      "   ...\n",
      "   [161.74023  175.74023  160.74023 ]\n",
      "   [163.28125  177.28125  164.28125 ]\n",
      "   [156.3125   172.3125   159.3125  ]]\n",
      "\n",
      "  ...\n",
      "\n",
      "  [[107.322266 158.32227  102.322266]\n",
      "   [102.25586  156.84961   98.84961 ]\n",
      "   [ 94.25     151.25195   86.27344 ]\n",
      "   ...\n",
      "   [ 98.978516 123.978516 101.978516]\n",
      "   [107.8125   132.8125   111.8125  ]\n",
      "   [109.55469  131.55469  109.17969 ]]\n",
      "\n",
      "  [[116.697266 166.69727  115.697266]\n",
      "   [106.99414  156.68164  105.52539 ]\n",
      "   [110.0918   160.0918   108.7793  ]\n",
      "   ...\n",
      "   [ 90.08008  117.61133   94.76758 ]\n",
      "   [106.33008  128.61133  107.70508 ]\n",
      "   [110.43359  132.4336   111.21875 ]]\n",
      "\n",
      "  [[116.21875  165.21875  120.21875 ]\n",
      "   [121.83008  169.83008  129.83008 ]\n",
      "   [119.31445  167.31445  127.31445 ]\n",
      "   ...\n",
      "   [ 91.77344  113.77344   92.77344 ]\n",
      "   [ 98.69141  120.69141   99.69141 ]\n",
      "   [ 99.33789  121.33789  100.33789 ]]]\n",
      "\n",
      "\n",
      " [[[134.375    168.625    111.75    ]\n",
      "   [133.       173.       113.      ]\n",
      "   [127.       167.       107.      ]\n",
      "   ...\n",
      "   [ 99.       138.        71.      ]\n",
      "   [ 98.       137.        72.      ]\n",
      "   [ 97.       136.        71.      ]]\n",
      "\n",
      "  [[131.75     168.625    112.75    ]\n",
      "   [132.25     170.25     111.25    ]\n",
      "   [132.75     169.75     118.5     ]\n",
      "   ...\n",
      "   [ 97.       136.        69.      ]\n",
      "   [ 96.       135.        70.      ]\n",
      "   [ 95.75     133.625     69.      ]]\n",
      "\n",
      "  [[136.09375  169.71875  117.96875 ]\n",
      "   [135.25     171.25     125.25    ]\n",
      "   [139.34375  175.34375  127.34375 ]\n",
      "   ...\n",
      "   [ 94.       136.        64.      ]\n",
      "   [ 94.65625  133.65625   66.65625 ]\n",
      "   [ 91.65625  131.90625   64.28125 ]]\n",
      "\n",
      "  ...\n",
      "\n",
      "  [[ 79.625    116.375     67.4375  ]\n",
      "   [ 65.5      105.25      70.      ]\n",
      "   [ 44.75      75.        41.      ]\n",
      "   ...\n",
      "   [123.       156.       129.      ]\n",
      "   [123.       157.       132.      ]\n",
      "   [120.       154.       127.      ]]\n",
      "\n",
      "  [[ 78.71875  117.09375   70.09375 ]\n",
      "   [ 66.625    105.375     60.625   ]\n",
      "   [ 44.25      74.25      36.25    ]\n",
      "   ...\n",
      "   [121.875    151.875    125.875   ]\n",
      "   [123.       155.       132.      ]\n",
      "   [120.       152.       130.25    ]]\n",
      "\n",
      "  [[ 79.25     117.875     75.      ]\n",
      "   [ 65.25     101.25      65.      ]\n",
      "   [ 43.21875   75.21875   38.21875 ]\n",
      "   ...\n",
      "   [117.75     142.75     121.75    ]\n",
      "   [123.       148.       127.      ]\n",
      "   [123.       152.       130.      ]]]], shape=(32, 256, 256, 3), dtype=float32) (32, 256, 256, 3)\n",
      "tf.Tensor(\n",
      "[[0. 0. 1.]\n",
      " [1. 0. 0.]\n",
      " [0. 1. 0.]\n",
      " [1. 0. 0.]\n",
      " [1. 0. 0.]\n",
      " [0. 0. 1.]\n",
      " [0. 1. 0.]\n",
      " [0. 1. 0.]\n",
      " [0. 1. 0.]\n",
      " [0. 1. 0.]\n",
      " [1. 0. 0.]\n",
      " [0. 0. 1.]\n",
      " [0. 1. 0.]\n",
      " [0. 0. 1.]\n",
      " [1. 0. 0.]\n",
      " [0. 1. 0.]\n",
      " [0. 0. 1.]\n",
      " [0. 1. 0.]\n",
      " [0. 0. 1.]\n",
      " [1. 0. 0.]\n",
      " [1. 0. 0.]\n",
      " [0. 1. 0.]\n",
      " [0. 0. 1.]\n",
      " [0. 1. 0.]\n",
      " [0. 1. 0.]\n",
      " [1. 0. 0.]\n",
      " [1. 0. 0.]\n",
      " [0. 0. 1.]\n",
      " [1. 0. 0.]\n",
      " [0. 1. 0.]\n",
      " [0. 1. 0.]\n",
      " [0. 1. 0.]], shape=(32, 3), dtype=float32) (32, 3)\n"
     ]
    }
   ],
   "source": [
    "for x,y in training_set:\n",
    "    print(x,x.shape)\n",
    "    print(y,y.shape)\n",
    "    break"
   ]
  },
  {
   "cell_type": "code",
   "execution_count": 5,
   "id": "803264fe",
   "metadata": {},
   "outputs": [],
   "source": [
    "from tensorflow.keras.layers import Dense,Conv2D,Flatten,MaxPool2D,Dropout\n",
    "from tensorflow.keras.models import Sequential"
   ]
  },
  {
   "cell_type": "code",
   "execution_count": 6,
   "id": "744c0d1d",
   "metadata": {},
   "outputs": [],
   "source": [
    "model = Sequential()"
   ]
  },
  {
   "cell_type": "code",
   "execution_count": 7,
   "id": "ec63214c",
   "metadata": {},
   "outputs": [
    {
     "name": "stderr",
     "output_type": "stream",
     "text": [
      "C:\\Users\\Komal Patil\\AppData\\Roaming\\Python\\Python311\\site-packages\\keras\\src\\layers\\convolutional\\base_conv.py:107: UserWarning: Do not pass an `input_shape`/`input_dim` argument to a layer. When using Sequential models, prefer using an `Input(shape)` object as the first layer in the model instead.\n",
      "  super().__init__(activity_regularizer=activity_regularizer, **kwargs)\n"
     ]
    }
   ],
   "source": [
    "# making cnn\n",
    "model.add(Conv2D(filters=32,kernel_size=3,padding='same',activation='relu',input_shape=[256,256,3]))\n",
    "model.add(Conv2D(filters=32,kernel_size=3,activation='relu'))\n",
    "model.add(MaxPool2D(pool_size=2,strides=2))"
   ]
  },
  {
   "cell_type": "code",
   "execution_count": 8,
   "id": "7d0b830a",
   "metadata": {},
   "outputs": [],
   "source": [
    "# making cnn\n",
    "model.add(Conv2D(filters=64,kernel_size=3,padding='same',activation='relu'))\n",
    "model.add(Conv2D(filters=64,kernel_size=3,activation='relu'))\n",
    "model.add(MaxPool2D(pool_size=2,strides=2))"
   ]
  },
  {
   "cell_type": "code",
   "execution_count": 9,
   "id": "4efa3b5f",
   "metadata": {},
   "outputs": [],
   "source": [
    "# making cnn\n",
    "model.add(Conv2D(filters=128,kernel_size=3,padding='same',activation='relu'))\n",
    "model.add(Conv2D(filters=128,kernel_size=3,activation='relu'))\n",
    "model.add(MaxPool2D(pool_size=2,strides=2))"
   ]
  },
  {
   "cell_type": "code",
   "execution_count": 10,
   "id": "457029ec",
   "metadata": {},
   "outputs": [],
   "source": [
    "# making cnn\n",
    "model.add(Conv2D(filters=256,kernel_size=3,padding='same',activation='relu'))\n",
    "model.add(Conv2D(filters=256,kernel_size=3,activation='relu'))\n",
    "model.add(MaxPool2D(pool_size=2,strides=2))"
   ]
  },
  {
   "cell_type": "code",
   "execution_count": 11,
   "id": "c77bcc26",
   "metadata": {},
   "outputs": [],
   "source": [
    "# making cnn\n",
    "model.add(Conv2D(filters=512,kernel_size=3,padding='same',activation='relu'))\n",
    "model.add(Conv2D(filters=512,kernel_size=3,activation='relu'))\n",
    "model.add(MaxPool2D(pool_size=2,strides=2))"
   ]
  },
  {
   "cell_type": "code",
   "execution_count": 12,
   "id": "918f844f",
   "metadata": {},
   "outputs": [],
   "source": [
    "model.add(Dropout(0.25))"
   ]
  },
  {
   "cell_type": "code",
   "execution_count": 13,
   "id": "26ed10c3",
   "metadata": {},
   "outputs": [],
   "source": [
    "model.add(Flatten())"
   ]
  },
  {
   "cell_type": "code",
   "execution_count": 14,
   "id": "1595b85d",
   "metadata": {},
   "outputs": [],
   "source": [
    "model.add(Dense(units=1500,activation='relu'))"
   ]
  },
  {
   "cell_type": "code",
   "execution_count": 15,
   "id": "01546730",
   "metadata": {},
   "outputs": [],
   "source": [
    "#output layer\n",
    "model.add(Dense(units=3,activation='softmax'))"
   ]
  },
  {
   "cell_type": "code",
   "execution_count": 16,
   "id": "72e4d8cd",
   "metadata": {},
   "outputs": [],
   "source": [
    "model.compile(optimizer= tf.keras.optimizers.Adam(\n",
    "    learning_rate=0.0001),loss='categorical_crossentropy',metrics=['accuracy'])"
   ]
  },
  {
   "cell_type": "code",
   "execution_count": 17,
   "id": "47d2bba6",
   "metadata": {},
   "outputs": [
    {
     "data": {
      "text/html": [
       "<pre style=\"white-space:pre;overflow-x:auto;line-height:normal;font-family:Menlo,'DejaVu Sans Mono',consolas,'Courier New',monospace\"><span style=\"font-weight: bold\">Model: \"sequential\"</span>\n",
       "</pre>\n"
      ],
      "text/plain": [
       "\u001b[1mModel: \"sequential\"\u001b[0m\n"
      ]
     },
     "metadata": {},
     "output_type": "display_data"
    },
    {
     "data": {
      "text/html": [
       "<pre style=\"white-space:pre;overflow-x:auto;line-height:normal;font-family:Menlo,'DejaVu Sans Mono',consolas,'Courier New',monospace\">┏━━━━━━━━━━━━━━━━━━━━━━━━━━━━━━━━━━━━━━┳━━━━━━━━━━━━━━━━━━━━━━━━━━━━━┳━━━━━━━━━━━━━━━━━┓\n",
       "┃<span style=\"font-weight: bold\"> Layer (type)                         </span>┃<span style=\"font-weight: bold\"> Output Shape                </span>┃<span style=\"font-weight: bold\">         Param # </span>┃\n",
       "┡━━━━━━━━━━━━━━━━━━━━━━━━━━━━━━━━━━━━━━╇━━━━━━━━━━━━━━━━━━━━━━━━━━━━━╇━━━━━━━━━━━━━━━━━┩\n",
       "│ conv2d (<span style=\"color: #0087ff; text-decoration-color: #0087ff\">Conv2D</span>)                      │ (<span style=\"color: #00d7ff; text-decoration-color: #00d7ff\">None</span>, <span style=\"color: #00af00; text-decoration-color: #00af00\">256</span>, <span style=\"color: #00af00; text-decoration-color: #00af00\">256</span>, <span style=\"color: #00af00; text-decoration-color: #00af00\">32</span>)        │             <span style=\"color: #00af00; text-decoration-color: #00af00\">896</span> │\n",
       "├──────────────────────────────────────┼─────────────────────────────┼─────────────────┤\n",
       "│ conv2d_1 (<span style=\"color: #0087ff; text-decoration-color: #0087ff\">Conv2D</span>)                    │ (<span style=\"color: #00d7ff; text-decoration-color: #00d7ff\">None</span>, <span style=\"color: #00af00; text-decoration-color: #00af00\">254</span>, <span style=\"color: #00af00; text-decoration-color: #00af00\">254</span>, <span style=\"color: #00af00; text-decoration-color: #00af00\">32</span>)        │           <span style=\"color: #00af00; text-decoration-color: #00af00\">9,248</span> │\n",
       "├──────────────────────────────────────┼─────────────────────────────┼─────────────────┤\n",
       "│ max_pooling2d (<span style=\"color: #0087ff; text-decoration-color: #0087ff\">MaxPooling2D</span>)         │ (<span style=\"color: #00d7ff; text-decoration-color: #00d7ff\">None</span>, <span style=\"color: #00af00; text-decoration-color: #00af00\">127</span>, <span style=\"color: #00af00; text-decoration-color: #00af00\">127</span>, <span style=\"color: #00af00; text-decoration-color: #00af00\">32</span>)        │               <span style=\"color: #00af00; text-decoration-color: #00af00\">0</span> │\n",
       "├──────────────────────────────────────┼─────────────────────────────┼─────────────────┤\n",
       "│ conv2d_2 (<span style=\"color: #0087ff; text-decoration-color: #0087ff\">Conv2D</span>)                    │ (<span style=\"color: #00d7ff; text-decoration-color: #00d7ff\">None</span>, <span style=\"color: #00af00; text-decoration-color: #00af00\">127</span>, <span style=\"color: #00af00; text-decoration-color: #00af00\">127</span>, <span style=\"color: #00af00; text-decoration-color: #00af00\">64</span>)        │          <span style=\"color: #00af00; text-decoration-color: #00af00\">18,496</span> │\n",
       "├──────────────────────────────────────┼─────────────────────────────┼─────────────────┤\n",
       "│ conv2d_3 (<span style=\"color: #0087ff; text-decoration-color: #0087ff\">Conv2D</span>)                    │ (<span style=\"color: #00d7ff; text-decoration-color: #00d7ff\">None</span>, <span style=\"color: #00af00; text-decoration-color: #00af00\">125</span>, <span style=\"color: #00af00; text-decoration-color: #00af00\">125</span>, <span style=\"color: #00af00; text-decoration-color: #00af00\">64</span>)        │          <span style=\"color: #00af00; text-decoration-color: #00af00\">36,928</span> │\n",
       "├──────────────────────────────────────┼─────────────────────────────┼─────────────────┤\n",
       "│ max_pooling2d_1 (<span style=\"color: #0087ff; text-decoration-color: #0087ff\">MaxPooling2D</span>)       │ (<span style=\"color: #00d7ff; text-decoration-color: #00d7ff\">None</span>, <span style=\"color: #00af00; text-decoration-color: #00af00\">62</span>, <span style=\"color: #00af00; text-decoration-color: #00af00\">62</span>, <span style=\"color: #00af00; text-decoration-color: #00af00\">64</span>)          │               <span style=\"color: #00af00; text-decoration-color: #00af00\">0</span> │\n",
       "├──────────────────────────────────────┼─────────────────────────────┼─────────────────┤\n",
       "│ conv2d_4 (<span style=\"color: #0087ff; text-decoration-color: #0087ff\">Conv2D</span>)                    │ (<span style=\"color: #00d7ff; text-decoration-color: #00d7ff\">None</span>, <span style=\"color: #00af00; text-decoration-color: #00af00\">62</span>, <span style=\"color: #00af00; text-decoration-color: #00af00\">62</span>, <span style=\"color: #00af00; text-decoration-color: #00af00\">128</span>)         │          <span style=\"color: #00af00; text-decoration-color: #00af00\">73,856</span> │\n",
       "├──────────────────────────────────────┼─────────────────────────────┼─────────────────┤\n",
       "│ conv2d_5 (<span style=\"color: #0087ff; text-decoration-color: #0087ff\">Conv2D</span>)                    │ (<span style=\"color: #00d7ff; text-decoration-color: #00d7ff\">None</span>, <span style=\"color: #00af00; text-decoration-color: #00af00\">60</span>, <span style=\"color: #00af00; text-decoration-color: #00af00\">60</span>, <span style=\"color: #00af00; text-decoration-color: #00af00\">128</span>)         │         <span style=\"color: #00af00; text-decoration-color: #00af00\">147,584</span> │\n",
       "├──────────────────────────────────────┼─────────────────────────────┼─────────────────┤\n",
       "│ max_pooling2d_2 (<span style=\"color: #0087ff; text-decoration-color: #0087ff\">MaxPooling2D</span>)       │ (<span style=\"color: #00d7ff; text-decoration-color: #00d7ff\">None</span>, <span style=\"color: #00af00; text-decoration-color: #00af00\">30</span>, <span style=\"color: #00af00; text-decoration-color: #00af00\">30</span>, <span style=\"color: #00af00; text-decoration-color: #00af00\">128</span>)         │               <span style=\"color: #00af00; text-decoration-color: #00af00\">0</span> │\n",
       "├──────────────────────────────────────┼─────────────────────────────┼─────────────────┤\n",
       "│ conv2d_6 (<span style=\"color: #0087ff; text-decoration-color: #0087ff\">Conv2D</span>)                    │ (<span style=\"color: #00d7ff; text-decoration-color: #00d7ff\">None</span>, <span style=\"color: #00af00; text-decoration-color: #00af00\">30</span>, <span style=\"color: #00af00; text-decoration-color: #00af00\">30</span>, <span style=\"color: #00af00; text-decoration-color: #00af00\">256</span>)         │         <span style=\"color: #00af00; text-decoration-color: #00af00\">295,168</span> │\n",
       "├──────────────────────────────────────┼─────────────────────────────┼─────────────────┤\n",
       "│ conv2d_7 (<span style=\"color: #0087ff; text-decoration-color: #0087ff\">Conv2D</span>)                    │ (<span style=\"color: #00d7ff; text-decoration-color: #00d7ff\">None</span>, <span style=\"color: #00af00; text-decoration-color: #00af00\">28</span>, <span style=\"color: #00af00; text-decoration-color: #00af00\">28</span>, <span style=\"color: #00af00; text-decoration-color: #00af00\">256</span>)         │         <span style=\"color: #00af00; text-decoration-color: #00af00\">590,080</span> │\n",
       "├──────────────────────────────────────┼─────────────────────────────┼─────────────────┤\n",
       "│ max_pooling2d_3 (<span style=\"color: #0087ff; text-decoration-color: #0087ff\">MaxPooling2D</span>)       │ (<span style=\"color: #00d7ff; text-decoration-color: #00d7ff\">None</span>, <span style=\"color: #00af00; text-decoration-color: #00af00\">14</span>, <span style=\"color: #00af00; text-decoration-color: #00af00\">14</span>, <span style=\"color: #00af00; text-decoration-color: #00af00\">256</span>)         │               <span style=\"color: #00af00; text-decoration-color: #00af00\">0</span> │\n",
       "├──────────────────────────────────────┼─────────────────────────────┼─────────────────┤\n",
       "│ conv2d_8 (<span style=\"color: #0087ff; text-decoration-color: #0087ff\">Conv2D</span>)                    │ (<span style=\"color: #00d7ff; text-decoration-color: #00d7ff\">None</span>, <span style=\"color: #00af00; text-decoration-color: #00af00\">14</span>, <span style=\"color: #00af00; text-decoration-color: #00af00\">14</span>, <span style=\"color: #00af00; text-decoration-color: #00af00\">512</span>)         │       <span style=\"color: #00af00; text-decoration-color: #00af00\">1,180,160</span> │\n",
       "├──────────────────────────────────────┼─────────────────────────────┼─────────────────┤\n",
       "│ conv2d_9 (<span style=\"color: #0087ff; text-decoration-color: #0087ff\">Conv2D</span>)                    │ (<span style=\"color: #00d7ff; text-decoration-color: #00d7ff\">None</span>, <span style=\"color: #00af00; text-decoration-color: #00af00\">12</span>, <span style=\"color: #00af00; text-decoration-color: #00af00\">12</span>, <span style=\"color: #00af00; text-decoration-color: #00af00\">512</span>)         │       <span style=\"color: #00af00; text-decoration-color: #00af00\">2,359,808</span> │\n",
       "├──────────────────────────────────────┼─────────────────────────────┼─────────────────┤\n",
       "│ max_pooling2d_4 (<span style=\"color: #0087ff; text-decoration-color: #0087ff\">MaxPooling2D</span>)       │ (<span style=\"color: #00d7ff; text-decoration-color: #00d7ff\">None</span>, <span style=\"color: #00af00; text-decoration-color: #00af00\">6</span>, <span style=\"color: #00af00; text-decoration-color: #00af00\">6</span>, <span style=\"color: #00af00; text-decoration-color: #00af00\">512</span>)           │               <span style=\"color: #00af00; text-decoration-color: #00af00\">0</span> │\n",
       "├──────────────────────────────────────┼─────────────────────────────┼─────────────────┤\n",
       "│ dropout (<span style=\"color: #0087ff; text-decoration-color: #0087ff\">Dropout</span>)                    │ (<span style=\"color: #00d7ff; text-decoration-color: #00d7ff\">None</span>, <span style=\"color: #00af00; text-decoration-color: #00af00\">6</span>, <span style=\"color: #00af00; text-decoration-color: #00af00\">6</span>, <span style=\"color: #00af00; text-decoration-color: #00af00\">512</span>)           │               <span style=\"color: #00af00; text-decoration-color: #00af00\">0</span> │\n",
       "├──────────────────────────────────────┼─────────────────────────────┼─────────────────┤\n",
       "│ flatten (<span style=\"color: #0087ff; text-decoration-color: #0087ff\">Flatten</span>)                    │ (<span style=\"color: #00d7ff; text-decoration-color: #00d7ff\">None</span>, <span style=\"color: #00af00; text-decoration-color: #00af00\">18432</span>)               │               <span style=\"color: #00af00; text-decoration-color: #00af00\">0</span> │\n",
       "├──────────────────────────────────────┼─────────────────────────────┼─────────────────┤\n",
       "│ dense (<span style=\"color: #0087ff; text-decoration-color: #0087ff\">Dense</span>)                        │ (<span style=\"color: #00d7ff; text-decoration-color: #00d7ff\">None</span>, <span style=\"color: #00af00; text-decoration-color: #00af00\">1500</span>)                │      <span style=\"color: #00af00; text-decoration-color: #00af00\">27,649,500</span> │\n",
       "├──────────────────────────────────────┼─────────────────────────────┼─────────────────┤\n",
       "│ dense_1 (<span style=\"color: #0087ff; text-decoration-color: #0087ff\">Dense</span>)                      │ (<span style=\"color: #00d7ff; text-decoration-color: #00d7ff\">None</span>, <span style=\"color: #00af00; text-decoration-color: #00af00\">3</span>)                   │           <span style=\"color: #00af00; text-decoration-color: #00af00\">4,503</span> │\n",
       "└──────────────────────────────────────┴─────────────────────────────┴─────────────────┘\n",
       "</pre>\n"
      ],
      "text/plain": [
       "┏━━━━━━━━━━━━━━━━━━━━━━━━━━━━━━━━━━━━━━┳━━━━━━━━━━━━━━━━━━━━━━━━━━━━━┳━━━━━━━━━━━━━━━━━┓\n",
       "┃\u001b[1m \u001b[0m\u001b[1mLayer (type)                        \u001b[0m\u001b[1m \u001b[0m┃\u001b[1m \u001b[0m\u001b[1mOutput Shape               \u001b[0m\u001b[1m \u001b[0m┃\u001b[1m \u001b[0m\u001b[1m        Param #\u001b[0m\u001b[1m \u001b[0m┃\n",
       "┡━━━━━━━━━━━━━━━━━━━━━━━━━━━━━━━━━━━━━━╇━━━━━━━━━━━━━━━━━━━━━━━━━━━━━╇━━━━━━━━━━━━━━━━━┩\n",
       "│ conv2d (\u001b[38;5;33mConv2D\u001b[0m)                      │ (\u001b[38;5;45mNone\u001b[0m, \u001b[38;5;34m256\u001b[0m, \u001b[38;5;34m256\u001b[0m, \u001b[38;5;34m32\u001b[0m)        │             \u001b[38;5;34m896\u001b[0m │\n",
       "├──────────────────────────────────────┼─────────────────────────────┼─────────────────┤\n",
       "│ conv2d_1 (\u001b[38;5;33mConv2D\u001b[0m)                    │ (\u001b[38;5;45mNone\u001b[0m, \u001b[38;5;34m254\u001b[0m, \u001b[38;5;34m254\u001b[0m, \u001b[38;5;34m32\u001b[0m)        │           \u001b[38;5;34m9,248\u001b[0m │\n",
       "├──────────────────────────────────────┼─────────────────────────────┼─────────────────┤\n",
       "│ max_pooling2d (\u001b[38;5;33mMaxPooling2D\u001b[0m)         │ (\u001b[38;5;45mNone\u001b[0m, \u001b[38;5;34m127\u001b[0m, \u001b[38;5;34m127\u001b[0m, \u001b[38;5;34m32\u001b[0m)        │               \u001b[38;5;34m0\u001b[0m │\n",
       "├──────────────────────────────────────┼─────────────────────────────┼─────────────────┤\n",
       "│ conv2d_2 (\u001b[38;5;33mConv2D\u001b[0m)                    │ (\u001b[38;5;45mNone\u001b[0m, \u001b[38;5;34m127\u001b[0m, \u001b[38;5;34m127\u001b[0m, \u001b[38;5;34m64\u001b[0m)        │          \u001b[38;5;34m18,496\u001b[0m │\n",
       "├──────────────────────────────────────┼─────────────────────────────┼─────────────────┤\n",
       "│ conv2d_3 (\u001b[38;5;33mConv2D\u001b[0m)                    │ (\u001b[38;5;45mNone\u001b[0m, \u001b[38;5;34m125\u001b[0m, \u001b[38;5;34m125\u001b[0m, \u001b[38;5;34m64\u001b[0m)        │          \u001b[38;5;34m36,928\u001b[0m │\n",
       "├──────────────────────────────────────┼─────────────────────────────┼─────────────────┤\n",
       "│ max_pooling2d_1 (\u001b[38;5;33mMaxPooling2D\u001b[0m)       │ (\u001b[38;5;45mNone\u001b[0m, \u001b[38;5;34m62\u001b[0m, \u001b[38;5;34m62\u001b[0m, \u001b[38;5;34m64\u001b[0m)          │               \u001b[38;5;34m0\u001b[0m │\n",
       "├──────────────────────────────────────┼─────────────────────────────┼─────────────────┤\n",
       "│ conv2d_4 (\u001b[38;5;33mConv2D\u001b[0m)                    │ (\u001b[38;5;45mNone\u001b[0m, \u001b[38;5;34m62\u001b[0m, \u001b[38;5;34m62\u001b[0m, \u001b[38;5;34m128\u001b[0m)         │          \u001b[38;5;34m73,856\u001b[0m │\n",
       "├──────────────────────────────────────┼─────────────────────────────┼─────────────────┤\n",
       "│ conv2d_5 (\u001b[38;5;33mConv2D\u001b[0m)                    │ (\u001b[38;5;45mNone\u001b[0m, \u001b[38;5;34m60\u001b[0m, \u001b[38;5;34m60\u001b[0m, \u001b[38;5;34m128\u001b[0m)         │         \u001b[38;5;34m147,584\u001b[0m │\n",
       "├──────────────────────────────────────┼─────────────────────────────┼─────────────────┤\n",
       "│ max_pooling2d_2 (\u001b[38;5;33mMaxPooling2D\u001b[0m)       │ (\u001b[38;5;45mNone\u001b[0m, \u001b[38;5;34m30\u001b[0m, \u001b[38;5;34m30\u001b[0m, \u001b[38;5;34m128\u001b[0m)         │               \u001b[38;5;34m0\u001b[0m │\n",
       "├──────────────────────────────────────┼─────────────────────────────┼─────────────────┤\n",
       "│ conv2d_6 (\u001b[38;5;33mConv2D\u001b[0m)                    │ (\u001b[38;5;45mNone\u001b[0m, \u001b[38;5;34m30\u001b[0m, \u001b[38;5;34m30\u001b[0m, \u001b[38;5;34m256\u001b[0m)         │         \u001b[38;5;34m295,168\u001b[0m │\n",
       "├──────────────────────────────────────┼─────────────────────────────┼─────────────────┤\n",
       "│ conv2d_7 (\u001b[38;5;33mConv2D\u001b[0m)                    │ (\u001b[38;5;45mNone\u001b[0m, \u001b[38;5;34m28\u001b[0m, \u001b[38;5;34m28\u001b[0m, \u001b[38;5;34m256\u001b[0m)         │         \u001b[38;5;34m590,080\u001b[0m │\n",
       "├──────────────────────────────────────┼─────────────────────────────┼─────────────────┤\n",
       "│ max_pooling2d_3 (\u001b[38;5;33mMaxPooling2D\u001b[0m)       │ (\u001b[38;5;45mNone\u001b[0m, \u001b[38;5;34m14\u001b[0m, \u001b[38;5;34m14\u001b[0m, \u001b[38;5;34m256\u001b[0m)         │               \u001b[38;5;34m0\u001b[0m │\n",
       "├──────────────────────────────────────┼─────────────────────────────┼─────────────────┤\n",
       "│ conv2d_8 (\u001b[38;5;33mConv2D\u001b[0m)                    │ (\u001b[38;5;45mNone\u001b[0m, \u001b[38;5;34m14\u001b[0m, \u001b[38;5;34m14\u001b[0m, \u001b[38;5;34m512\u001b[0m)         │       \u001b[38;5;34m1,180,160\u001b[0m │\n",
       "├──────────────────────────────────────┼─────────────────────────────┼─────────────────┤\n",
       "│ conv2d_9 (\u001b[38;5;33mConv2D\u001b[0m)                    │ (\u001b[38;5;45mNone\u001b[0m, \u001b[38;5;34m12\u001b[0m, \u001b[38;5;34m12\u001b[0m, \u001b[38;5;34m512\u001b[0m)         │       \u001b[38;5;34m2,359,808\u001b[0m │\n",
       "├──────────────────────────────────────┼─────────────────────────────┼─────────────────┤\n",
       "│ max_pooling2d_4 (\u001b[38;5;33mMaxPooling2D\u001b[0m)       │ (\u001b[38;5;45mNone\u001b[0m, \u001b[38;5;34m6\u001b[0m, \u001b[38;5;34m6\u001b[0m, \u001b[38;5;34m512\u001b[0m)           │               \u001b[38;5;34m0\u001b[0m │\n",
       "├──────────────────────────────────────┼─────────────────────────────┼─────────────────┤\n",
       "│ dropout (\u001b[38;5;33mDropout\u001b[0m)                    │ (\u001b[38;5;45mNone\u001b[0m, \u001b[38;5;34m6\u001b[0m, \u001b[38;5;34m6\u001b[0m, \u001b[38;5;34m512\u001b[0m)           │               \u001b[38;5;34m0\u001b[0m │\n",
       "├──────────────────────────────────────┼─────────────────────────────┼─────────────────┤\n",
       "│ flatten (\u001b[38;5;33mFlatten\u001b[0m)                    │ (\u001b[38;5;45mNone\u001b[0m, \u001b[38;5;34m18432\u001b[0m)               │               \u001b[38;5;34m0\u001b[0m │\n",
       "├──────────────────────────────────────┼─────────────────────────────┼─────────────────┤\n",
       "│ dense (\u001b[38;5;33mDense\u001b[0m)                        │ (\u001b[38;5;45mNone\u001b[0m, \u001b[38;5;34m1500\u001b[0m)                │      \u001b[38;5;34m27,649,500\u001b[0m │\n",
       "├──────────────────────────────────────┼─────────────────────────────┼─────────────────┤\n",
       "│ dense_1 (\u001b[38;5;33mDense\u001b[0m)                      │ (\u001b[38;5;45mNone\u001b[0m, \u001b[38;5;34m3\u001b[0m)                   │           \u001b[38;5;34m4,503\u001b[0m │\n",
       "└──────────────────────────────────────┴─────────────────────────────┴─────────────────┘\n"
      ]
     },
     "metadata": {},
     "output_type": "display_data"
    },
    {
     "data": {
      "text/html": [
       "<pre style=\"white-space:pre;overflow-x:auto;line-height:normal;font-family:Menlo,'DejaVu Sans Mono',consolas,'Courier New',monospace\"><span style=\"font-weight: bold\"> Total params: </span><span style=\"color: #00af00; text-decoration-color: #00af00\">32,366,227</span> (123.47 MB)\n",
       "</pre>\n"
      ],
      "text/plain": [
       "\u001b[1m Total params: \u001b[0m\u001b[38;5;34m32,366,227\u001b[0m (123.47 MB)\n"
      ]
     },
     "metadata": {},
     "output_type": "display_data"
    },
    {
     "data": {
      "text/html": [
       "<pre style=\"white-space:pre;overflow-x:auto;line-height:normal;font-family:Menlo,'DejaVu Sans Mono',consolas,'Courier New',monospace\"><span style=\"font-weight: bold\"> Trainable params: </span><span style=\"color: #00af00; text-decoration-color: #00af00\">32,366,227</span> (123.47 MB)\n",
       "</pre>\n"
      ],
      "text/plain": [
       "\u001b[1m Trainable params: \u001b[0m\u001b[38;5;34m32,366,227\u001b[0m (123.47 MB)\n"
      ]
     },
     "metadata": {},
     "output_type": "display_data"
    },
    {
     "data": {
      "text/html": [
       "<pre style=\"white-space:pre;overflow-x:auto;line-height:normal;font-family:Menlo,'DejaVu Sans Mono',consolas,'Courier New',monospace\"><span style=\"font-weight: bold\"> Non-trainable params: </span><span style=\"color: #00af00; text-decoration-color: #00af00\">0</span> (0.00 B)\n",
       "</pre>\n"
      ],
      "text/plain": [
       "\u001b[1m Non-trainable params: \u001b[0m\u001b[38;5;34m0\u001b[0m (0.00 B)\n"
      ]
     },
     "metadata": {},
     "output_type": "display_data"
    }
   ],
   "source": [
    "model.summary()"
   ]
  },
  {
   "cell_type": "code",
   "execution_count": 18,
   "id": "3b53df8b",
   "metadata": {},
   "outputs": [],
   "source": [
    "# training model"
   ]
  },
  {
   "cell_type": "code",
   "execution_count": 19,
   "id": "9cb20093",
   "metadata": {},
   "outputs": [
    {
     "name": "stdout",
     "output_type": "stream",
     "text": [
      "Epoch 1/10\n",
      "\u001b[1m42/42\u001b[0m \u001b[32m━━━━━━━━━━━━━━━━━━━━\u001b[0m\u001b[37m\u001b[0m \u001b[1m343s\u001b[0m 8s/step - accuracy: 0.3029 - loss: 3.5998 - val_accuracy: 0.3333 - val_loss: 1.1104\n",
      "Epoch 2/10\n",
      "\u001b[1m42/42\u001b[0m \u001b[32m━━━━━━━━━━━━━━━━━━━━\u001b[0m\u001b[37m\u001b[0m \u001b[1m281s\u001b[0m 7s/step - accuracy: 0.3346 - loss: 1.1040 - val_accuracy: 0.3333 - val_loss: 1.1031\n",
      "Epoch 3/10\n",
      "\u001b[1m42/42\u001b[0m \u001b[32m━━━━━━━━━━━━━━━━━━━━\u001b[0m\u001b[37m\u001b[0m \u001b[1m276s\u001b[0m 7s/step - accuracy: 0.3479 - loss: 1.1009 - val_accuracy: 0.3333 - val_loss: 1.0996\n",
      "Epoch 4/10\n",
      "\u001b[1m42/42\u001b[0m \u001b[32m━━━━━━━━━━━━━━━━━━━━\u001b[0m\u001b[37m\u001b[0m \u001b[1m275s\u001b[0m 7s/step - accuracy: 0.3479 - loss: 1.1030 - val_accuracy: 0.3333 - val_loss: 1.1034\n",
      "Epoch 5/10\n",
      "\u001b[1m42/42\u001b[0m \u001b[32m━━━━━━━━━━━━━━━━━━━━\u001b[0m\u001b[37m\u001b[0m \u001b[1m403s\u001b[0m 10s/step - accuracy: 0.3489 - loss: 1.1019 - val_accuracy: 0.3333 - val_loss: 1.0976\n",
      "Epoch 6/10\n",
      "\u001b[1m42/42\u001b[0m \u001b[32m━━━━━━━━━━━━━━━━━━━━\u001b[0m\u001b[37m\u001b[0m \u001b[1m246s\u001b[0m 6s/step - accuracy: 0.3469 - loss: 1.1021 - val_accuracy: 0.3333 - val_loss: 1.1006\n",
      "Epoch 7/10\n",
      "\u001b[1m42/42\u001b[0m \u001b[32m━━━━━━━━━━━━━━━━━━━━\u001b[0m\u001b[37m\u001b[0m \u001b[1m209s\u001b[0m 5s/step - accuracy: 0.3411 - loss: 1.1002 - val_accuracy: 0.3333 - val_loss: 1.0989\n",
      "Epoch 8/10\n",
      "\u001b[1m42/42\u001b[0m \u001b[32m━━━━━━━━━━━━━━━━━━━━\u001b[0m\u001b[37m\u001b[0m \u001b[1m204s\u001b[0m 5s/step - accuracy: 0.3399 - loss: 1.1001 - val_accuracy: 0.3333 - val_loss: 1.0992\n",
      "Epoch 9/10\n",
      "\u001b[1m42/42\u001b[0m \u001b[32m━━━━━━━━━━━━━━━━━━━━\u001b[0m\u001b[37m\u001b[0m \u001b[1m202s\u001b[0m 5s/step - accuracy: 0.3451 - loss: 1.1004 - val_accuracy: 0.3333 - val_loss: 1.0981\n",
      "Epoch 10/10\n",
      "\u001b[1m42/42\u001b[0m \u001b[32m━━━━━━━━━━━━━━━━━━━━\u001b[0m\u001b[37m\u001b[0m \u001b[1m201s\u001b[0m 5s/step - accuracy: 0.3325 - loss: 1.1005 - val_accuracy: 0.3333 - val_loss: 1.1005\n"
     ]
    }
   ],
   "source": [
    "training_history = model.fit(x=training_set,validation_data=validation_set,epochs=10)"
   ]
  },
  {
   "cell_type": "markdown",
   "id": "ee9dcf72",
   "metadata": {},
   "source": [
    "#model evaluation"
   ]
  },
  {
   "cell_type": "code",
   "execution_count": 20,
   "id": "f8aba166",
   "metadata": {},
   "outputs": [
    {
     "name": "stdout",
     "output_type": "stream",
     "text": [
      "\u001b[1m42/42\u001b[0m \u001b[32m━━━━━━━━━━━━━━━━━━━━\u001b[0m\u001b[37m\u001b[0m \u001b[1m46s\u001b[0m 1s/step - accuracy: 0.3439 - loss: 1.0991\n"
     ]
    },
    {
     "data": {
      "text/plain": [
       "[1.0986007452011108, 0.3464447855949402]"
      ]
     },
     "execution_count": 20,
     "metadata": {},
     "output_type": "execute_result"
    }
   ],
   "source": [
    "train_loss,train_acc = model.evaluate(training_set)"
   ]
  },
  {
   "cell_type": "code",
   "execution_count": 21,
   "id": "b36a63cb",
   "metadata": {},
   "outputs": [
    {
     "name": "stdout",
     "output_type": "stream",
     "text": [
      "\u001b[1m2/2\u001b[0m \u001b[32m━━━━━━━━━━━━━━━━━━━━\u001b[0m\u001b[37m\u001b[0m \u001b[1m2s\u001b[0m 850ms/step - accuracy: 0.3368 - loss: 1.0986\n"
     ]
    }
   ],
   "source": [
    "val_loss,val_acc = model.evaluate(validation_set)"
   ]
  },
  {
   "cell_type": "code",
   "execution_count": 25,
   "id": "69fbed18",
   "metadata": {
    "scrolled": true
   },
   "outputs": [],
   "source": [
    "#saving model\n",
    "model.save(\"D:/sudesh/projects/plant desies detection/archive (4)/train_model.keras\")"
   ]
  },
  {
   "cell_type": "code",
   "execution_count": 26,
   "id": "f0f14a5a",
   "metadata": {},
   "outputs": [],
   "source": [
    "# recording history\n",
    "import json\n",
    "with open(\"D:/sudesh/projects/plant desies detection/archive (4)/training.json\",\"w\") as f:\n",
    "    json.dump(training_history.history,f)"
   ]
  },
  {
   "cell_type": "code",
   "execution_count": 27,
   "id": "b135f963",
   "metadata": {},
   "outputs": [
    {
     "name": "stdout",
     "output_type": "stream",
     "text": [
      "Found 60 files belonging to 3 classes.\n"
     ]
    }
   ],
   "source": [
    "#accuracy score\n",
    "test_set = tf.keras.utils.image_dataset_from_directory(\n",
    "    \"D:/sudesh/projects/plant desies detection/archive (4)/Validation/Validation\",\n",
    "    labels=\"inferred\",\n",
    "    label_mode=\"categorical\",\n",
    "    class_names=None,\n",
    "    color_mode=\"rgb\",\n",
    "    batch_size=32,\n",
    "    image_size=(256, 256),\n",
    "    shuffle=False,\n",
    "    seed=None,\n",
    "    validation_split=None,\n",
    "    subset=None,\n",
    "    interpolation=\"bilinear\",\n",
    "    follow_links=False,\n",
    "    crop_to_aspect_ratio=False,\n",
    "    pad_to_aspect_ratio=False,\n",
    "    data_format=None,\n",
    "    verbose=True,\n",
    ")"
   ]
  },
  {
   "cell_type": "code",
   "execution_count": 37,
   "id": "9eaf77cb",
   "metadata": {},
   "outputs": [
    {
     "data": {
      "text/plain": [
       "['Healthy', 'Powdery', 'Rust']"
      ]
     },
     "execution_count": 37,
     "metadata": {},
     "output_type": "execute_result"
    }
   ],
   "source": [
    "class_name = validation_set.class_names\n",
    "class_name"
   ]
  },
  {
   "cell_type": "code",
   "execution_count": 28,
   "id": "adb26b1d",
   "metadata": {},
   "outputs": [
    {
     "name": "stdout",
     "output_type": "stream",
     "text": [
      "\u001b[1m2/2\u001b[0m \u001b[32m━━━━━━━━━━━━━━━━━━━━\u001b[0m\u001b[37m\u001b[0m \u001b[1m29s\u001b[0m 6s/step\n"
     ]
    },
    {
     "data": {
      "text/plain": [
       "array([[0.34425014, 0.32173538, 0.33401448],\n",
       "       [0.34812146, 0.31373522, 0.33814326],\n",
       "       [0.35345066, 0.3131393 , 0.33341   ],\n",
       "       [0.34626696, 0.32267863, 0.33105436],\n",
       "       [0.3539406 , 0.31071815, 0.3353413 ],\n",
       "       [0.34628993, 0.31452206, 0.33918792],\n",
       "       [0.350772  , 0.31135452, 0.3378735 ],\n",
       "       [0.3488247 , 0.31471488, 0.33646038],\n",
       "       [0.34811658, 0.3150713 , 0.33681214],\n",
       "       [0.34855554, 0.31940773, 0.3320367 ],\n",
       "       [0.3545832 , 0.31371966, 0.33169717],\n",
       "       [0.34626797, 0.31710863, 0.33662346],\n",
       "       [0.3494015 , 0.31493804, 0.33566046],\n",
       "       [0.35469702, 0.31450865, 0.33079433],\n",
       "       [0.35071477, 0.3142081 , 0.33507717],\n",
       "       [0.3561948 , 0.3119126 , 0.33189264],\n",
       "       [0.35331148, 0.3127427 , 0.33394584],\n",
       "       [0.34681666, 0.32030684, 0.3328765 ],\n",
       "       [0.3534731 , 0.3173385 , 0.32918838],\n",
       "       [0.3553531 , 0.31012037, 0.33452654],\n",
       "       [0.34538954, 0.31950864, 0.33510178],\n",
       "       [0.35271156, 0.31466997, 0.33261847],\n",
       "       [0.35097456, 0.31549037, 0.33353502],\n",
       "       [0.35036933, 0.31603006, 0.33360058],\n",
       "       [0.34968367, 0.31590456, 0.33441177],\n",
       "       [0.3503124 , 0.3156799 , 0.33400774],\n",
       "       [0.3532252 , 0.31242466, 0.33435017],\n",
       "       [0.35172933, 0.31772423, 0.33054644],\n",
       "       [0.3461353 , 0.317545  , 0.33631974],\n",
       "       [0.34665033, 0.31687033, 0.33647937],\n",
       "       [0.35183892, 0.3155116 , 0.33264947],\n",
       "       [0.34417406, 0.3174268 , 0.33839914],\n",
       "       [0.35137525, 0.31528324, 0.3333415 ],\n",
       "       [0.34813255, 0.31758755, 0.33427987],\n",
       "       [0.34984922, 0.31898123, 0.33116955],\n",
       "       [0.3478765 , 0.317931  , 0.33419254],\n",
       "       [0.3518029 , 0.31597206, 0.33222502],\n",
       "       [0.34802327, 0.31437293, 0.33760384],\n",
       "       [0.34845915, 0.3186207 , 0.3329201 ],\n",
       "       [0.35167477, 0.3160441 , 0.33228117],\n",
       "       [0.3533668 , 0.31856346, 0.32806975],\n",
       "       [0.35494915, 0.3149082 , 0.33014262],\n",
       "       [0.34945503, 0.316826  , 0.33371896],\n",
       "       [0.35295027, 0.31306964, 0.33398014],\n",
       "       [0.3548513 , 0.3149685 , 0.33018023],\n",
       "       [0.3521336 , 0.3133971 , 0.3344693 ],\n",
       "       [0.3506961 , 0.31462246, 0.3346815 ],\n",
       "       [0.34815857, 0.31471238, 0.33712903],\n",
       "       [0.35479414, 0.3146135 , 0.3305924 ],\n",
       "       [0.35616866, 0.3123951 , 0.33143628],\n",
       "       [0.3501832 , 0.31834605, 0.33147082],\n",
       "       [0.34987405, 0.31715298, 0.33297306],\n",
       "       [0.34794804, 0.3200688 , 0.3319831 ],\n",
       "       [0.3557538 , 0.3119479 , 0.3322983 ],\n",
       "       [0.3525665 , 0.31622773, 0.33120573],\n",
       "       [0.34820735, 0.31512323, 0.33666933],\n",
       "       [0.34999406, 0.31935075, 0.33065516],\n",
       "       [0.349756  , 0.31469727, 0.33554673],\n",
       "       [0.349462  , 0.3210114 , 0.3295266 ],\n",
       "       [0.35216698, 0.31213987, 0.3356932 ]], dtype=float32)"
      ]
     },
     "execution_count": 28,
     "metadata": {},
     "output_type": "execute_result"
    }
   ],
   "source": [
    "y_pred=model.predict(test_set)\n",
    "y_pred"
   ]
  },
  {
   "cell_type": "code",
   "execution_count": 29,
   "id": "9d6850b6",
   "metadata": {},
   "outputs": [
    {
     "data": {
      "text/plain": [
       "<tf.Tensor: shape=(60,), dtype=int64, numpy=\n",
       "array([0, 0, 0, 0, 0, 0, 0, 0, 0, 0, 0, 0, 0, 0, 0, 0, 0, 0, 0, 0, 0, 0,\n",
       "       0, 0, 0, 0, 0, 0, 0, 0, 0, 0, 0, 0, 0, 0, 0, 0, 0, 0, 0, 0, 0, 0,\n",
       "       0, 0, 0, 0, 0, 0, 0, 0, 0, 0, 0, 0, 0, 0, 0, 0], dtype=int64)>"
      ]
     },
     "execution_count": 29,
     "metadata": {},
     "output_type": "execute_result"
    }
   ],
   "source": [
    "pred_categori=tf.argmax(y_pred,axis=1)\n",
    "pred_categori"
   ]
  },
  {
   "cell_type": "code",
   "execution_count": 30,
   "id": "876c6465",
   "metadata": {},
   "outputs": [
    {
     "data": {
      "text/plain": [
       "<tf.Tensor: shape=(60, 3), dtype=float32, numpy=\n",
       "array([[1., 0., 0.],\n",
       "       [1., 0., 0.],\n",
       "       [1., 0., 0.],\n",
       "       [1., 0., 0.],\n",
       "       [1., 0., 0.],\n",
       "       [1., 0., 0.],\n",
       "       [1., 0., 0.],\n",
       "       [1., 0., 0.],\n",
       "       [1., 0., 0.],\n",
       "       [1., 0., 0.],\n",
       "       [1., 0., 0.],\n",
       "       [1., 0., 0.],\n",
       "       [1., 0., 0.],\n",
       "       [1., 0., 0.],\n",
       "       [1., 0., 0.],\n",
       "       [1., 0., 0.],\n",
       "       [1., 0., 0.],\n",
       "       [1., 0., 0.],\n",
       "       [1., 0., 0.],\n",
       "       [1., 0., 0.],\n",
       "       [0., 1., 0.],\n",
       "       [0., 1., 0.],\n",
       "       [0., 1., 0.],\n",
       "       [0., 1., 0.],\n",
       "       [0., 1., 0.],\n",
       "       [0., 1., 0.],\n",
       "       [0., 1., 0.],\n",
       "       [0., 1., 0.],\n",
       "       [0., 1., 0.],\n",
       "       [0., 1., 0.],\n",
       "       [0., 1., 0.],\n",
       "       [0., 1., 0.],\n",
       "       [0., 1., 0.],\n",
       "       [0., 1., 0.],\n",
       "       [0., 1., 0.],\n",
       "       [0., 1., 0.],\n",
       "       [0., 1., 0.],\n",
       "       [0., 1., 0.],\n",
       "       [0., 1., 0.],\n",
       "       [0., 1., 0.],\n",
       "       [0., 0., 1.],\n",
       "       [0., 0., 1.],\n",
       "       [0., 0., 1.],\n",
       "       [0., 0., 1.],\n",
       "       [0., 0., 1.],\n",
       "       [0., 0., 1.],\n",
       "       [0., 0., 1.],\n",
       "       [0., 0., 1.],\n",
       "       [0., 0., 1.],\n",
       "       [0., 0., 1.],\n",
       "       [0., 0., 1.],\n",
       "       [0., 0., 1.],\n",
       "       [0., 0., 1.],\n",
       "       [0., 0., 1.],\n",
       "       [0., 0., 1.],\n",
       "       [0., 0., 1.],\n",
       "       [0., 0., 1.],\n",
       "       [0., 0., 1.],\n",
       "       [0., 0., 1.],\n",
       "       [0., 0., 1.]], dtype=float32)>"
      ]
     },
     "execution_count": 30,
     "metadata": {},
     "output_type": "execute_result"
    }
   ],
   "source": [
    "true_categori=tf.concat([y for x,y in test_set],axis=0)\n",
    "true_categori"
   ]
  },
  {
   "cell_type": "code",
   "execution_count": 31,
   "id": "f4c28522",
   "metadata": {},
   "outputs": [
    {
     "data": {
      "text/plain": [
       "<tf.Tensor: shape=(60,), dtype=int64, numpy=\n",
       "array([0, 0, 0, 0, 0, 0, 0, 0, 0, 0, 0, 0, 0, 0, 0, 0, 0, 0, 0, 0, 1, 1,\n",
       "       1, 1, 1, 1, 1, 1, 1, 1, 1, 1, 1, 1, 1, 1, 1, 1, 1, 1, 2, 2, 2, 2,\n",
       "       2, 2, 2, 2, 2, 2, 2, 2, 2, 2, 2, 2, 2, 2, 2, 2], dtype=int64)>"
      ]
     },
     "execution_count": 31,
     "metadata": {},
     "output_type": "execute_result"
    }
   ],
   "source": [
    "y_true=tf.argmax(true_categori,axis=1)\n",
    "y_true"
   ]
  },
  {
   "cell_type": "code",
   "execution_count": 38,
   "id": "d5c9df6c",
   "metadata": {},
   "outputs": [
    {
     "name": "stderr",
     "output_type": "stream",
     "text": [
      "C:\\ProgramData\\anaconda3\\Lib\\site-packages\\sklearn\\metrics\\_classification.py:1469: UndefinedMetricWarning: Precision and F-score are ill-defined and being set to 0.0 in labels with no predicted samples. Use `zero_division` parameter to control this behavior.\n",
      "  _warn_prf(average, modifier, msg_start, len(result))\n",
      "C:\\ProgramData\\anaconda3\\Lib\\site-packages\\sklearn\\metrics\\_classification.py:1469: UndefinedMetricWarning: Precision and F-score are ill-defined and being set to 0.0 in labels with no predicted samples. Use `zero_division` parameter to control this behavior.\n",
      "  _warn_prf(average, modifier, msg_start, len(result))\n",
      "C:\\ProgramData\\anaconda3\\Lib\\site-packages\\sklearn\\metrics\\_classification.py:1469: UndefinedMetricWarning: Precision and F-score are ill-defined and being set to 0.0 in labels with no predicted samples. Use `zero_division` parameter to control this behavior.\n",
      "  _warn_prf(average, modifier, msg_start, len(result))\n"
     ]
    },
    {
     "data": {
      "text/plain": [
       "'              precision    recall  f1-score   support\\n\\n     Healthy       0.33      1.00      0.50        20\\n     Powdery       0.00      0.00      0.00        20\\n        Rust       0.00      0.00      0.00        20\\n\\n    accuracy                           0.33        60\\n   macro avg       0.11      0.33      0.17        60\\nweighted avg       0.11      0.33      0.17        60\\n'"
      ]
     },
     "execution_count": 38,
     "metadata": {},
     "output_type": "execute_result"
    }
   ],
   "source": [
    "from sklearn.metrics import classification_report, confusion_matrix\n",
    "classification_report(y_true,pred_categori,target_names=class_name)"
   ]
  },
  {
   "cell_type": "code",
   "execution_count": 39,
   "id": "295948c5",
   "metadata": {},
   "outputs": [
    {
     "data": {
      "text/plain": [
       "array([[20,  0,  0],\n",
       "       [20,  0,  0],\n",
       "       [20,  0,  0]], dtype=int64)"
      ]
     },
     "execution_count": 39,
     "metadata": {},
     "output_type": "execute_result"
    }
   ],
   "source": [
    "cn=confusion_matrix(y_true,pred_categori)\n",
    "cn"
   ]
  },
  {
   "cell_type": "code",
   "execution_count": null,
   "id": "d7dc1dc5",
   "metadata": {},
   "outputs": [],
   "source": []
  }
 ],
 "metadata": {
  "kernelspec": {
   "display_name": "Python 3 (ipykernel)",
   "language": "python",
   "name": "python3"
  },
  "language_info": {
   "codemirror_mode": {
    "name": "ipython",
    "version": 3
   },
   "file_extension": ".py",
   "mimetype": "text/x-python",
   "name": "python",
   "nbconvert_exporter": "python",
   "pygments_lexer": "ipython3",
   "version": "3.11.5"
  }
 },
 "nbformat": 4,
 "nbformat_minor": 5
}
